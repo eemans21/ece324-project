{
  "nbformat": 4,
  "nbformat_minor": 0,
  "metadata": {
    "colab": {
      "name": "DataGathering.ipynb",
      "provenance": [],
      "collapsed_sections": []
    },
    "kernelspec": {
      "name": "python3",
      "display_name": "Python 3"
    },
    "language_info": {
      "name": "python"
    }
  },
  "cells": [
    {
      "cell_type": "markdown",
      "source": [
        "ESC324 \n",
        "Classifying Movie Genres\n"
      ],
      "metadata": {
        "id": "Jff07hl61MZZ"
      }
    },
    {
      "cell_type": "markdown",
      "source": [
        "# Data gathering"
      ],
      "metadata": {
        "id": "JNoxkQen1wuD"
      }
    },
    {
      "cell_type": "markdown",
      "source": [
        "The code that is commented below is simply showing how we obtained data from Kaggle, but as we have added the data csvs to our repository, this does not need to be run. "
      ],
      "metadata": {
        "id": "a_XcOdjoKgZH"
      }
    },
    {
      "cell_type": "markdown",
      "source": [
        "Set up to extract data from Kaggle is from the code in this website: https://www.analyticsvidhya.com/blog/2021/06/how-to-load-kaggle-datasets-directly-into-google-colab/ "
      ],
      "metadata": {
        "id": "3EBl9X9yDJjN"
      }
    },
    {
      "cell_type": "code",
      "source": [
        "# set up kaggle to get data \n",
        "# only need to run once and use your personal kaggle api key (need to load kaggle.json to files)\n",
        "# ! pip install -q kaggle\n",
        "# ! mkdir ~/.kaggle\n",
        "# ! cp /kaggle.json ~/.kaggle/ # contains personal kaggle api key\n",
        "# ! chmod 600 ~/.kaggle/kaggle.json"
      ],
      "metadata": {
        "id": "O-I-UmpjC-ie",
        "colab": {
          "base_uri": "https://localhost:8080/"
        },
        "outputId": "65068014-8961-4a17-8b11-4c4a1cb85bb4"
      },
      "execution_count": null,
      "outputs": [
        {
          "output_type": "stream",
          "name": "stdout",
          "text": [
            "mkdir: cannot create directory ‘/root/.kaggle’: File exists\n"
          ]
        }
      ]
    },
    {
      "cell_type": "code",
      "execution_count": null,
      "metadata": {
        "id": "TB2XN0AP05AE",
        "colab": {
          "base_uri": "https://localhost:8080/"
        },
        "outputId": "0c7c0aae-a4d1-48d5-f93e-e64b5f31c169"
      },
      "outputs": [
        {
          "output_type": "stream",
          "name": "stdout",
          "text": [
            "Downloading movies_metadata.csv.zip to /content\n",
            " 49% 6.00M/12.2M [00:00<00:00, 54.5MB/s]\n",
            "100% 12.2M/12.2M [00:00<00:00, 53.2MB/s]\n",
            "Downloading netflix-movies-and-tv-shows-2021.zip to /content\n",
            "  0% 0.00/1.07M [00:00<?, ?B/s]\n",
            "100% 1.07M/1.07M [00:00<00:00, 16.0MB/s]\n",
            "Downloading imdb-dataset-of-top-1000-movies-and-tv-shows.zip to /content\n",
            "  0% 0.00/175k [00:00<?, ?B/s]\n",
            "100% 175k/175k [00:00<00:00, 18.4MB/s]\n"
          ]
        }
      ],
      "source": [
        "# Movies dataset\n",
        "# ! kaggle datasets download -d rounakbanik/the-movies-dataset -f movies_metadata.csv\n",
        "# # Netflix dataset\n",
        "# ! kaggle datasets download -d satpreetmakhija/netflix-movies-and-tv-shows-2021\n",
        "# # IMDB Movies dataset\n",
        "# ! kaggle datasets download -d harshitshankhdhar/imdb-dataset-of-top-1000-movies-and-tv-shows"
      ]
    },
    {
      "cell_type": "markdown",
      "source": [
        "Below code is used to get data for training and testing our models. "
      ],
      "metadata": {
        "id": "mrTjlbR_ThlP"
      }
    },
    {
      "cell_type": "code",
      "source": [
        "# unzip files \n",
        "! unzip movies_metadata.csv.zip\n",
        "! unzip netflix-movies-and-tv-shows-2021.zip\n",
        "! unzip imdb-dataset-of-top-1000-movies-and-tv-shows.zip"
      ],
      "metadata": {
        "colab": {
          "base_uri": "https://localhost:8080/"
        },
        "id": "QthWjRLFKQR9",
        "outputId": "7371d2e6-0250-4f5c-f6db-c2c01de5f9ef"
      },
      "execution_count": null,
      "outputs": [
        {
          "output_type": "stream",
          "name": "stdout",
          "text": [
            "Archive:  movies_metadata.csv.zip\n",
            "  inflating: movies_metadata.csv     \n",
            "Archive:  netflix-movies-and-tv-shows-2021.zip\n",
            "  inflating: netflixData.csv         \n",
            "Archive:  imdb-dataset-of-top-1000-movies-and-tv-shows.zip\n",
            "  inflating: imdb_top_1000.csv       \n"
          ]
        }
      ]
    },
    {
      "cell_type": "markdown",
      "source": [
        "Extract relevant data from csvs\n"
      ],
      "metadata": {
        "id": "SdflW7NyLHpJ"
      }
    },
    {
      "cell_type": "code",
      "source": [
        "import pandas as pd \n",
        "import json\n",
        "\n",
        "def extract_genre(x):\n",
        "  \"\"\"\n",
        "  Helper function for extracting genre from the Kaggle Movies dataset\n",
        "  \"\"\"\n",
        "  for i in range(len(x)):\n",
        "    x[i] = x[i]['name']\n",
        "  return x\n",
        "\n",
        "# Movies dataset (movies_metadata.csv)\n",
        "# we want features: 'genres' (label), 'overview' (input)\n",
        "df_1 = pd.read_csv('movies_metadata.csv')\n",
        "# print(df_1.columns)\n",
        "input_1 = df_1['overview']\n",
        "output_1 = df_1['genres']\n",
        "\n",
        "# data in kaggle dataset is in the form: '[{'id': 12, 'name': 'Adventure'},..'\n",
        "# we want to extract the name of genres to a list of the form: ['Adventure',..]\n",
        "output_1 = output_1.apply(lambda x: json.loads(x.replace(\"'\", '\"'))) # make the string into a list of dictionaries\n",
        "output_1 = output_1.apply(extract_genre) # get the genre from the dictionaries\n",
        "\n",
        "# print(len(input_1.index)) # size of dataset\n",
        "# print(output_1[1]) # example genre output\n",
        "\n",
        "# Netflix dataset (netflixData.csv)\n",
        "# features: 'genres' (label), 'description' (input)\n",
        "df_2 = pd.read_csv('netflixData.csv')\n",
        "# print(df_2.columns)\n",
        "input_2 = df_2['Description']\n",
        "output_2 = df_2['Genres']\n",
        "\n",
        "output_2 = output_2.str.split(', ') # make genres a list\n",
        "# print(len(input_2.index)) # size of dataset\n",
        "# print(output_2[2]) # example genre output\n",
        "\n",
        "# IMDB dataset (imdb_top_1000.csv)\n",
        "# features: 'Genre' (label), 'Overview' (input)\n",
        "df_3 = pd.read_csv('imdb_top_1000.csv')\n",
        "# print(df_3.columns)\n",
        "input_3 = df_3['Overview']\n",
        "output_3 = df_3['Genre']\n",
        "\n",
        "output_3 = output_3.str.split(', ') # make genres a list\n",
        "# print(len(input_3.index)) # size of dataset\n",
        "# print(output_3[1]) # example genre output\n",
        "\n",
        "# Human classification dataset (human_classification_training.csv)\n",
        "df_4 = pd.read_csv('human_classification_training.csv')\n",
        "# print(df_4.columns)\n",
        "input_4 = df_4['Synopsis']\n",
        "output_4 = df_4['Genre']\n",
        "\n",
        "# print(len(input_3.index)) # size of dataset\n",
        "# print(output_3[1]) # example genre output"
      ],
      "metadata": {
        "id": "hbUZRfqDLMBI",
        "colab": {
          "base_uri": "https://localhost:8080/"
        },
        "outputId": "0bc75b46-bf64-49b6-ce8f-58270e8ca4ad"
      },
      "execution_count": null,
      "outputs": [
        {
          "output_type": "stream",
          "name": "stderr",
          "text": [
            "/usr/local/lib/python3.7/dist-packages/IPython/core/interactiveshell.py:2882: DtypeWarning: Columns (10) have mixed types.Specify dtype option on import or set low_memory=False.\n",
            "  exec(code_obj, self.user_global_ns, self.user_ns)\n"
          ]
        },
        {
          "output_type": "stream",
          "name": "stdout",
          "text": [
            "45466\n",
            "['Adventure', 'Fantasy', 'Family']\n",
            "5967\n",
            "['Documentaries', 'International Movies']\n",
            "1000\n",
            "['Crime', 'Drama']\n"
          ]
        }
      ]
    },
    {
      "cell_type": "markdown",
      "source": [
        "Split into training, validation, and test data"
      ],
      "metadata": {
        "id": "4aCQ7e8-MG50"
      }
    },
    {
      "cell_type": "code",
      "source": [
        "# combine all inputs together\n",
        "inputs = pd.concat([input_1,input_2,input_3,inputs_4])\n",
        "outputs = pd.concat([output_1, output_2,output_3,outputs_4])\n",
        "# print(outputs[5]) # example of what the output genre data looks like"
      ],
      "metadata": {
        "id": "TIdUuzXcMJTH",
        "colab": {
          "base_uri": "https://localhost:8080/"
        },
        "outputId": "8dc2b859-55c5-4888-a7f2-98c13e41f508"
      },
      "execution_count": null,
      "outputs": [
        {
          "output_type": "stream",
          "name": "stdout",
          "text": [
            "5                   [Action, Crime, Drama, Thriller]\n",
            "5    [Dramas, International Movies, Romantic Movies]\n",
            "5                         [Action, Adventure, Drama]\n",
            "dtype: object\n"
          ]
        }
      ]
    },
    {
      "cell_type": "code",
      "source": [
        "# get train validate test split of data\n",
        "from sklearn.model_selection import train_test_split\n",
        "\n",
        "# 80% train : 10% validation : 10% test\n",
        "X_train, X_test, y_train, y_test = train_test_split(inputs, outputs,\n",
        "    test_size=0.2, shuffle = True, random_state = 8)\n",
        "\n",
        "# get validation split from test dataset\n",
        "X_val, X_test, y_val, y_test = train_test_split(X_test, y_test, \n",
        "    test_size=0.5, random_state= 8) \n"
      ],
      "metadata": {
        "colab": {
          "base_uri": "https://localhost:8080/"
        },
        "id": "99y1aZ2NA_mN",
        "outputId": "50d02c54-7dd8-463e-ff09-8ed8565b97f6"
      },
      "execution_count": null,
      "outputs": [
        {
          "output_type": "stream",
          "name": "stdout",
          "text": [
            "1    An organized crime dynasty's aging patriarch t...\n",
            "1    When siblings Judy and Peter discover an encha...\n",
            "1    As a grisly virus rampages a city, a lone man ...\n",
            "dtype: object\n",
            "1                                      [Crime, Drama]\n",
            "1                        [Adventure, Fantasy, Family]\n",
            "1    [Horror Movies, International Movies, Thrillers]\n",
            "dtype: object\n",
            "5243\n",
            "5244\n"
          ]
        }
      ]
    }
  ]
}